{
 "cells": [
  {
   "cell_type": "code",
   "execution_count": 1,
   "metadata": {},
   "outputs": [
    {
     "name": "stdout",
     "output_type": "stream",
     "text": [
      "Requirement already satisfied: mysql-connector-python in /Users/billy/anaconda3/lib/python3.11/site-packages (8.3.0)\n"
     ]
    }
   ],
   "source": [
    "!pip install mysql-connector-python"
   ]
  },
  {
   "cell_type": "code",
   "execution_count": 2,
   "metadata": {},
   "outputs": [],
   "source": [
    "import mysql.connector as connector"
   ]
  },
  {
   "cell_type": "code",
   "execution_count": 5,
   "metadata": {},
   "outputs": [],
   "source": [
    "config = {\n",
    "    'user': 'admin',\n",
    "    'password': 'admin',\n",
    "    'db': 'little_lemon_db'\n",
    "}\n",
    "\n",
    "connection = connector.connect(**config)"
   ]
  },
  {
   "cell_type": "code",
   "execution_count": 6,
   "metadata": {},
   "outputs": [],
   "source": [
    "cursor = connection.cursor()"
   ]
  },
  {
   "cell_type": "markdown",
   "metadata": {},
   "source": [
    "# Available tables"
   ]
  },
  {
   "cell_type": "code",
   "execution_count": 7,
   "metadata": {},
   "outputs": [],
   "source": [
    "show_tables_query = \"SHOW tables\"\n",
    "cursor.execute(show_tables_query)"
   ]
  },
  {
   "cell_type": "code",
   "execution_count": 8,
   "metadata": {},
   "outputs": [],
   "source": [
    "results = cursor.fetchall()"
   ]
  },
  {
   "cell_type": "code",
   "execution_count": 12,
   "metadata": {},
   "outputs": [
    {
     "name": "stdout",
     "output_type": "stream",
     "text": [
      "Current tables: \n",
      "- address\n",
      "- booking\n",
      "- customer\n",
      "- customer_order\n",
      "- delivery\n",
      "- menu\n",
      "- menu_item\n",
      "- order_view\n",
      "- staff\n"
     ]
    }
   ],
   "source": [
    "print('Current tables: ')\n",
    "for table in results:\n",
    "    print(f'- {table[0]}')"
   ]
  },
  {
   "cell_type": "markdown",
   "metadata": {},
   "source": [
    "# Customer with total cost greater than $50"
   ]
  },
  {
   "cell_type": "code",
   "execution_count": 15,
   "metadata": {},
   "outputs": [],
   "source": [
    "select_query = '''\n",
    "SELECT \n",
    "\tCONCAT(first_name, ' ', last_name) as full_name,\n",
    "    contact_number,\n",
    "    total_cost\n",
    "FROM customer\n",
    "JOIN customer_order USING(customer_id)\n",
    "WHERE total_cost > 50\n",
    "'''\n",
    "cursor.execute(select_query)"
   ]
  },
  {
   "cell_type": "code",
   "execution_count": 16,
   "metadata": {},
   "outputs": [],
   "source": [
    "results = cursor.fetchall()"
   ]
  },
  {
   "cell_type": "code",
   "execution_count": 17,
   "metadata": {},
   "outputs": [
    {
     "name": "stdout",
     "output_type": "stream",
     "text": [
      "Customer: John Doe\n",
      "Contact number: 9051234567\n",
      "Total Cost: 59.98\n",
      "\n",
      "Customer: Michael Johnson\n",
      "Contact number: 5193456789\n",
      "Total Cost: 77.97\n",
      "\n",
      "Customer: Jane Smith\n",
      "Contact number: 4162345678\n",
      "Total Cost: 51.98\n",
      "\n"
     ]
    }
   ],
   "source": [
    "for customer in results:\n",
    "    print(f'Customer: {customer[0]}')\n",
    "    print(f'Contact number: {customer[1]}')\n",
    "    print(f'Total Cost: {customer[2]}')\n",
    "    print('')"
   ]
  },
  {
   "cell_type": "code",
   "execution_count": null,
   "metadata": {},
   "outputs": [],
   "source": []
  }
 ],
 "metadata": {
  "kernelspec": {
   "display_name": "base",
   "language": "python",
   "name": "python3"
  },
  "language_info": {
   "codemirror_mode": {
    "name": "ipython",
    "version": 3
   },
   "file_extension": ".py",
   "mimetype": "text/x-python",
   "name": "python",
   "nbconvert_exporter": "python",
   "pygments_lexer": "ipython3",
   "version": "3.11.5"
  }
 },
 "nbformat": 4,
 "nbformat_minor": 2
}
